{
 "cells": [
  {
   "cell_type": "code",
   "execution_count": 27,
   "id": "a475a207-d277-4f18-9795-37e2f564cb57",
   "metadata": {},
   "outputs": [],
   "source": [
    "import pandas as pd\n",
    "import numpy as np\n",
    "from scipy.stats import boxcox\n",
    "from scipy import stats\n",
    "from sklearn.preprocessing import MinMaxScaler\n",
    "from sklearn.linear_model import LinearRegression\n",
    "from sklearn.linear_model import Lasso\n",
    "from sklearn.linear_model import PoissonRegressor\n",
    "from sklearn.feature_selection import SelectKBest\n",
    "from sklearn.feature_selection import r_regression\n",
    "from sklearn import neighbors\n",
    "from sklearn import neural_network\n",
    "from sklearn import tree\n",
    "import sklearn.ensemble as se\n",
    "from sklearn.preprocessing import OneHotEncoder\n",
    "from sklearn import metrics\n",
    "from sklearn.model_selection import cross_validate\n",
    "from sklearn.model_selection import GridSearchCV\n",
    "from sklearn import gaussian_process\n",
    "from sklearn.metrics import make_scorer, accuracy_score, precision_score, recall_score, f1_score"
   ]
  },
  {
   "cell_type": "code",
   "execution_count": 2,
   "id": "a021e9e5-600e-4d22-b2a2-3b174f212a92",
   "metadata": {},
   "outputs": [],
   "source": [
    "df = pd.read_csv('finalDatasetNew.csv')\n",
    "df['avgSeverity'] = df['severity']/df['cnt']\n",
    "\n",
    "asList = []\n",
    "\n",
    "for i in df['avgSeverity']:\n",
    "    temp = 'risk'\n",
    "    if i > 0:\n",
    "        temp = 'risk'\n",
    "    else:\n",
    "        temp = 'no risk'\n",
    "    asList.append(temp)\n",
    "    \n",
    "df['risk'] = asList"
   ]
  },
  {
   "cell_type": "code",
   "execution_count": 3,
   "id": "4188a58d-2994-45b7-97a1-dc6cf821e1b8",
   "metadata": {},
   "outputs": [
    {
     "name": "stdout",
     "output_type": "stream",
     "text": [
      "8548 47650\n"
     ]
    }
   ],
   "source": [
    "print(len(df['risk'][df['risk']=='risk']),len(df['risk']))"
   ]
  },
  {
   "cell_type": "code",
   "execution_count": 4,
   "id": "da962f38-eb0b-44b7-8d85-ee0ec815b331",
   "metadata": {},
   "outputs": [],
   "source": [
    "dfCat = df[['region','temperature','dayNight','precip','traffic','risk']].copy()\n",
    "\n",
    "dfCat.region = dfCat.region.astype('category')\n",
    "dfCat.temperature = dfCat.temperature.astype('category')\n",
    "# dfCat.dewPoint = dfCat.dewPoint.astype('category')\n",
    "dfCat.dayNight = dfCat.dayNight.astype('category')\n",
    "dfCat.precip = dfCat.precip.astype('category')\n",
    "dfCat.traffic = dfCat.traffic.astype('category')\n",
    "dfCat.risk = dfCat.risk.astype('category')"
   ]
  },
  {
   "cell_type": "code",
   "execution_count": 5,
   "id": "7afd42e3-8418-4756-9e1c-717753770937",
   "metadata": {},
   "outputs": [
    {
     "data": {
      "text/html": [
       "<div>\n",
       "<style scoped>\n",
       "    .dataframe tbody tr th:only-of-type {\n",
       "        vertical-align: middle;\n",
       "    }\n",
       "\n",
       "    .dataframe tbody tr th {\n",
       "        vertical-align: top;\n",
       "    }\n",
       "\n",
       "    .dataframe thead th {\n",
       "        text-align: right;\n",
       "    }\n",
       "</style>\n",
       "<table border=\"1\" class=\"dataframe\">\n",
       "  <thead>\n",
       "    <tr style=\"text-align: right;\">\n",
       "      <th></th>\n",
       "      <th>lat</th>\n",
       "      <th>lon</th>\n",
       "    </tr>\n",
       "  </thead>\n",
       "  <tbody>\n",
       "    <tr>\n",
       "      <th>0</th>\n",
       "      <td>36.99</td>\n",
       "      <td>-113.67</td>\n",
       "    </tr>\n",
       "    <tr>\n",
       "      <th>1</th>\n",
       "      <td>36.99</td>\n",
       "      <td>-113.67</td>\n",
       "    </tr>\n",
       "    <tr>\n",
       "      <th>2</th>\n",
       "      <td>36.99</td>\n",
       "      <td>-113.67</td>\n",
       "    </tr>\n",
       "    <tr>\n",
       "      <th>3</th>\n",
       "      <td>36.99</td>\n",
       "      <td>-113.67</td>\n",
       "    </tr>\n",
       "    <tr>\n",
       "      <th>4</th>\n",
       "      <td>36.99</td>\n",
       "      <td>-113.67</td>\n",
       "    </tr>\n",
       "  </tbody>\n",
       "</table>\n",
       "</div>"
      ],
      "text/plain": [
       "     lat     lon\n",
       "0  36.99 -113.67\n",
       "1  36.99 -113.67\n",
       "2  36.99 -113.67\n",
       "3  36.99 -113.67\n",
       "4  36.99 -113.67"
      ]
     },
     "execution_count": 5,
     "metadata": {},
     "output_type": "execute_result"
    }
   ],
   "source": [
    "dfTransformed = df[['lat','lon']].copy()\n",
    "dfTransformed.head()"
   ]
  },
  {
   "cell_type": "code",
   "execution_count": 6,
   "id": "9133fd3a-6cff-4447-b7c7-1ec6ad6b6b28",
   "metadata": {},
   "outputs": [],
   "source": [
    "# dfTransformed.severity\n",
    "# dfTransformed.severity = dfTransformed.severity.astype(float)\n",
    "# dfTransformed.count = dfTransformed.cnt.astype(float)\n",
    "dfTransformed.lat = dfTransformed.lat.astype(float)\n",
    "dfTransformed.lon = dfTransformed.lon.astype(float)"
   ]
  },
  {
   "cell_type": "code",
   "execution_count": 7,
   "id": "84445045-3930-45c9-985f-82fdc9ca6f0a",
   "metadata": {},
   "outputs": [
    {
     "name": "stdout",
     "output_type": "stream",
     "text": [
      "lat will use original transformation with final skew: 0.05254324672054759.\n",
      "lon will use log transformation with final skew: 0.10525802405777833.\n"
     ]
    }
   ],
   "source": [
    "for i in dfTransformed.iteritems():\n",
    "    name = i[0]\n",
    "    try:\n",
    "        #print(name)\n",
    "        skew = dfTransformed[name].skew()\n",
    "        #print('Regular skew:',name, skew)\n",
    "        ln = np.log1p(dfTransformed[name] + abs(min(dfTransformed[name])) + 4)\n",
    "        lnSkew = abs(ln.skew())\n",
    "        #print('ln skew:', lnSkew)\n",
    "        sr = (4 + dfTransformed[name])**(1/2)\n",
    "        srSkew = abs(sr.skew())\n",
    "        #print('sr skew:', srSkew)\n",
    "        cr = (4 + dfTransformed[name])**(1/3)\n",
    "        crSkew = abs(cr.skew())\n",
    "        #print('cr skew:', crSkew)\n",
    "        recip = 1/(4 + dfTransformed[name])\n",
    "        recScew = abs(recip.skew())\n",
    "        type = 'original'\n",
    "        finalSkew = skew\n",
    "        skews = [['log',lnSkew],['squareRoot',srSkew],['cubeRoot',crSkew],['recip',recScew]]\n",
    "        for ii in skews:\n",
    "            if ii[1] < finalSkew:\n",
    "                if (ii[0] == 'log') and (ln.isna().sum() == 0):\n",
    "                    finalSkew = ii[1]\n",
    "                    type = ii[0]\n",
    "                elif (ii[0] == 'squareRoot') and (sr.isna().sum() == 0):\n",
    "                    finalSkew = ii[1]\n",
    "                    type = ii[0]\n",
    "                elif (ii[0] == 'cubeRoot') and (cr.isna().sum() == 0):\n",
    "                    finalSkew = ii[1]\n",
    "                    type = ii[0]\n",
    "                elif (ii[0] == 'recip') and (recip.isna().sum() == 0):\n",
    "                    finalSkew = ii[1]\n",
    "                    type = ii[0]\n",
    "        #print('{} has {} regular skew, {} log skew, {} sqrt skew, and {} cube skew.'.format(name,skew,lnSkew,srSkew,crSkew))\n",
    "        print('{} will use {} transformation with final skew: {}.'.format(name,type,abs(finalSkew)))\n",
    "        if type == 'log':\n",
    "            dfTransformed[name] = ln\n",
    "        elif type == 'squareRoot':\n",
    "            dfTransformed[name] = sr\n",
    "        elif type == 'cubeRoot':\n",
    "            dfTransformed[name] = cr\n",
    "        elif type == 'recip':\n",
    "            dfTransformed[name] = recip\n",
    "    except:\n",
    "        pass"
   ]
  },
  {
   "cell_type": "code",
   "execution_count": 8,
   "id": "4c8c9920-4436-42be-b8c2-81a7bb392d29",
   "metadata": {},
   "outputs": [
    {
     "name": "stdout",
     "output_type": "stream",
     "text": [
      "lat             0.052543\n",
      "lon             0.456013\n",
      "precip          0.004869\n",
      "traffic         0.004617\n",
      "severity       24.961830\n",
      "cnt            24.961266\n",
      "avgSeverity     3.508830\n",
      "dtype: float64\n",
      "lat    0.052543\n",
      "lon    0.105258\n",
      "dtype: float64\n"
     ]
    },
    {
     "name": "stderr",
     "output_type": "stream",
     "text": [
      "C:\\Users\\Tony Anderson\\AppData\\Local\\Temp\\ipykernel_11316\\2999164132.py:1: FutureWarning: Dropping of nuisance columns in DataFrame reductions (with 'numeric_only=None') is deprecated; in a future version this will raise TypeError.  Select only valid columns before calling the reduction.\n",
      "  print(abs(df.skew()))\n"
     ]
    }
   ],
   "source": [
    "print(abs(df.skew()))\n",
    "print(abs(dfTransformed.skew()))"
   ]
  },
  {
   "cell_type": "code",
   "execution_count": 9,
   "id": "bf18d84d-c6b3-45bd-8ff8-7d35bf36caa6",
   "metadata": {},
   "outputs": [],
   "source": [
    "scaler = MinMaxScaler()"
   ]
  },
  {
   "cell_type": "code",
   "execution_count": 10,
   "id": "51d4f99d-4e97-4ef5-8a69-f09d22017e58",
   "metadata": {},
   "outputs": [],
   "source": [
    "dfScaled = scaler.fit_transform(dfTransformed.to_numpy())\n",
    "dfScaled = pd.DataFrame(dfScaled, columns = ['lat','lon'])"
   ]
  },
  {
   "cell_type": "code",
   "execution_count": 11,
   "id": "b78112bd-c682-40b0-893c-2e01d0546465",
   "metadata": {},
   "outputs": [
    {
     "name": "stdout",
     "output_type": "stream",
     "text": [
      "47650\n"
     ]
    }
   ],
   "source": [
    "dfFinal = dfCat.join(dfScaled)\n",
    "print(len(dfFinal))\n",
    "# dfFinal['avgSeverity'] = dfFinal['severity']/dfFinal['cnt']\n",
    "dfFinal = dfFinal.dropna()"
   ]
  },
  {
   "cell_type": "code",
   "execution_count": 12,
   "id": "9db4eec6-f980-4e74-a10a-d9078e51309e",
   "metadata": {},
   "outputs": [
    {
     "data": {
      "text/html": [
       "<div>\n",
       "<style scoped>\n",
       "    .dataframe tbody tr th:only-of-type {\n",
       "        vertical-align: middle;\n",
       "    }\n",
       "\n",
       "    .dataframe tbody tr th {\n",
       "        vertical-align: top;\n",
       "    }\n",
       "\n",
       "    .dataframe thead th {\n",
       "        text-align: right;\n",
       "    }\n",
       "</style>\n",
       "<table border=\"1\" class=\"dataframe\">\n",
       "  <thead>\n",
       "    <tr style=\"text-align: right;\">\n",
       "      <th></th>\n",
       "      <th>region</th>\n",
       "      <th>temperature</th>\n",
       "      <th>dayNight</th>\n",
       "      <th>precip</th>\n",
       "      <th>traffic</th>\n",
       "      <th>risk</th>\n",
       "      <th>lat</th>\n",
       "      <th>lon</th>\n",
       "    </tr>\n",
       "  </thead>\n",
       "  <tbody>\n",
       "    <tr>\n",
       "      <th>0</th>\n",
       "      <td>36.99,-113.67</td>\n",
       "      <td>&lt; 80</td>\n",
       "      <td>Night</td>\n",
       "      <td>True</td>\n",
       "      <td>True</td>\n",
       "      <td>no risk</td>\n",
       "      <td>0.0</td>\n",
       "      <td>0.094912</td>\n",
       "    </tr>\n",
       "    <tr>\n",
       "      <th>1</th>\n",
       "      <td>36.99,-113.67</td>\n",
       "      <td>80+</td>\n",
       "      <td>Night</td>\n",
       "      <td>False</td>\n",
       "      <td>True</td>\n",
       "      <td>no risk</td>\n",
       "      <td>0.0</td>\n",
       "      <td>0.094912</td>\n",
       "    </tr>\n",
       "    <tr>\n",
       "      <th>2</th>\n",
       "      <td>36.99,-113.67</td>\n",
       "      <td>80+</td>\n",
       "      <td>Night</td>\n",
       "      <td>True</td>\n",
       "      <td>False</td>\n",
       "      <td>no risk</td>\n",
       "      <td>0.0</td>\n",
       "      <td>0.094912</td>\n",
       "    </tr>\n",
       "    <tr>\n",
       "      <th>3</th>\n",
       "      <td>36.99,-113.67</td>\n",
       "      <td>80+</td>\n",
       "      <td>Night</td>\n",
       "      <td>True</td>\n",
       "      <td>True</td>\n",
       "      <td>no risk</td>\n",
       "      <td>0.0</td>\n",
       "      <td>0.094912</td>\n",
       "    </tr>\n",
       "    <tr>\n",
       "      <th>4</th>\n",
       "      <td>36.99,-113.67</td>\n",
       "      <td>80+</td>\n",
       "      <td>Day</td>\n",
       "      <td>False</td>\n",
       "      <td>False</td>\n",
       "      <td>no risk</td>\n",
       "      <td>0.0</td>\n",
       "      <td>0.094912</td>\n",
       "    </tr>\n",
       "  </tbody>\n",
       "</table>\n",
       "</div>"
      ],
      "text/plain": [
       "          region temperature dayNight precip traffic     risk  lat       lon\n",
       "0  36.99,-113.67        < 80    Night   True    True  no risk  0.0  0.094912\n",
       "1  36.99,-113.67         80+    Night  False    True  no risk  0.0  0.094912\n",
       "2  36.99,-113.67         80+    Night   True   False  no risk  0.0  0.094912\n",
       "3  36.99,-113.67         80+    Night   True    True  no risk  0.0  0.094912\n",
       "4  36.99,-113.67         80+      Day  False   False  no risk  0.0  0.094912"
      ]
     },
     "execution_count": 12,
     "metadata": {},
     "output_type": "execute_result"
    }
   ],
   "source": [
    "dfFinal.head()"
   ]
  },
  {
   "cell_type": "code",
   "execution_count": 13,
   "id": "f84e270a-045f-4176-a78a-757d4df010e3",
   "metadata": {},
   "outputs": [
    {
     "name": "stdout",
     "output_type": "stream",
     "text": [
      "43520\n"
     ]
    }
   ],
   "source": [
    "records = len(dfFinal)\n",
    "testSize = 4000\n",
    "trainSize = records - testSize\n",
    "print(trainSize)\n",
    "\n",
    "dfFinal = dfFinal.sample(frac=1)\n",
    "\n",
    "dfTrain = dfFinal.head(trainSize)\n",
    "dfTest = dfFinal.tail(testSize)"
   ]
  },
  {
   "cell_type": "code",
   "execution_count": 14,
   "id": "2fb947bb-7156-4a3d-9dc1-fca8a2375953",
   "metadata": {},
   "outputs": [
    {
     "data": {
      "text/html": [
       "<div>\n",
       "<style scoped>\n",
       "    .dataframe tbody tr th:only-of-type {\n",
       "        vertical-align: middle;\n",
       "    }\n",
       "\n",
       "    .dataframe tbody tr th {\n",
       "        vertical-align: top;\n",
       "    }\n",
       "\n",
       "    .dataframe thead th {\n",
       "        text-align: right;\n",
       "    }\n",
       "</style>\n",
       "<table border=\"1\" class=\"dataframe\">\n",
       "  <thead>\n",
       "    <tr style=\"text-align: right;\">\n",
       "      <th></th>\n",
       "      <th>region</th>\n",
       "      <th>temperature</th>\n",
       "      <th>dayNight</th>\n",
       "      <th>precip</th>\n",
       "      <th>traffic</th>\n",
       "      <th>risk</th>\n",
       "      <th>lat</th>\n",
       "      <th>lon</th>\n",
       "    </tr>\n",
       "  </thead>\n",
       "  <tbody>\n",
       "    <tr>\n",
       "      <th>15179</th>\n",
       "      <td>38.65,-109.55</td>\n",
       "      <td>80+</td>\n",
       "      <td>Night</td>\n",
       "      <td>True</td>\n",
       "      <td>False</td>\n",
       "      <td>no risk</td>\n",
       "      <td>0.332</td>\n",
       "      <td>0.919912</td>\n",
       "    </tr>\n",
       "    <tr>\n",
       "      <th>36711</th>\n",
       "      <td>40.61,-111.23</td>\n",
       "      <td>&lt;= 32</td>\n",
       "      <td>Night</td>\n",
       "      <td>True</td>\n",
       "      <td>False</td>\n",
       "      <td>no risk</td>\n",
       "      <td>0.724</td>\n",
       "      <td>0.637842</td>\n",
       "    </tr>\n",
       "    <tr>\n",
       "      <th>33346</th>\n",
       "      <td>40.37,-110.77</td>\n",
       "      <td>80+</td>\n",
       "      <td>Day</td>\n",
       "      <td>True</td>\n",
       "      <td>False</td>\n",
       "      <td>no risk</td>\n",
       "      <td>0.676</td>\n",
       "      <td>0.720716</td>\n",
       "    </tr>\n",
       "    <tr>\n",
       "      <th>34120</th>\n",
       "      <td>40.41,-111.45</td>\n",
       "      <td>&lt;= 32</td>\n",
       "      <td>Night</td>\n",
       "      <td>False</td>\n",
       "      <td>False</td>\n",
       "      <td>no risk</td>\n",
       "      <td>0.684</td>\n",
       "      <td>0.596458</td>\n",
       "    </tr>\n",
       "    <tr>\n",
       "      <th>29346</th>\n",
       "      <td>40.11,-111.67</td>\n",
       "      <td>80+</td>\n",
       "      <td>Day</td>\n",
       "      <td>True</td>\n",
       "      <td>True</td>\n",
       "      <td>no risk</td>\n",
       "      <td>0.624</td>\n",
       "      <td>0.553852</td>\n",
       "    </tr>\n",
       "  </tbody>\n",
       "</table>\n",
       "</div>"
      ],
      "text/plain": [
       "              region temperature dayNight precip traffic     risk    lat  \\\n",
       "15179  38.65,-109.55         80+    Night   True   False  no risk  0.332   \n",
       "36711  40.61,-111.23       <= 32    Night   True   False  no risk  0.724   \n",
       "33346  40.37,-110.77         80+      Day   True   False  no risk  0.676   \n",
       "34120  40.41,-111.45       <= 32    Night  False   False  no risk  0.684   \n",
       "29346  40.11,-111.67         80+      Day   True    True  no risk  0.624   \n",
       "\n",
       "            lon  \n",
       "15179  0.919912  \n",
       "36711  0.637842  \n",
       "33346  0.720716  \n",
       "34120  0.596458  \n",
       "29346  0.553852  "
      ]
     },
     "execution_count": 14,
     "metadata": {},
     "output_type": "execute_result"
    }
   ],
   "source": [
    "dfTrain.head()"
   ]
  },
  {
   "cell_type": "code",
   "execution_count": 15,
   "id": "85532631-3411-4a58-9d22-b9ba5541786e",
   "metadata": {},
   "outputs": [],
   "source": [
    "yTrain = dfTrain.risk.copy()\n",
    "xTrain = dfTrain.copy()\n",
    "xTrain = xTrain.drop(columns = ['region','risk'])\n",
    "xTrain = pd.get_dummies(xTrain, columns = ['temperature','dayNight','precip','traffic'])\n",
    "yTest = dfTest.risk.copy()\n",
    "yTest = yTest.copy()\n",
    "xTest = dfTest.copy().drop(columns = ['region','risk'])\n",
    "xTest = pd.get_dummies(xTest, columns = ['temperature','dayNight','precip','traffic'])"
   ]
  },
  {
   "cell_type": "code",
   "execution_count": 16,
   "id": "b0d3b6b0-5954-4e31-9b45-243afa4497fb",
   "metadata": {},
   "outputs": [
    {
     "data": {
      "text/plain": [
       "15179    no risk\n",
       "36711    no risk\n",
       "33346    no risk\n",
       "34120    no risk\n",
       "29346    no risk\n",
       "Name: risk, dtype: category\n",
       "Categories (2, object): ['no risk', 'risk']"
      ]
     },
     "execution_count": 16,
     "metadata": {},
     "output_type": "execute_result"
    }
   ],
   "source": [
    "yTrain.head()"
   ]
  },
  {
   "cell_type": "code",
   "execution_count": 17,
   "id": "defb797e-ab69-4faa-b4b7-572a4abd3bea",
   "metadata": {},
   "outputs": [],
   "source": [
    "rs = 12445\n",
    "\n",
    "AdaBoostModel = se.AdaBoostClassifier(random_state = rs)\n",
    "BaggingModel = se.BaggingClassifier(random_state = rs)\n",
    "ExtraTreesModel = se.ExtraTreesClassifier(random_state = rs)\n",
    "GradientBoostingModel = se.GradientBoostingClassifier(random_state = rs)\n",
    "RandomForestModel = se.RandomForestClassifier(random_state = rs)\n",
    "#LinearRegressionModel = LinearRegression()\n",
    "#LassoModel = Lasso(random_state = rs)\n",
    "#PoissonModel = PoissonRegressor()\n",
    "KNNModel = neighbors.KNeighborsClassifier()\n",
    "NeuralNetworkModel = neural_network.MLPClassifier(random_state = rs)\n",
    "DecisionTreeModel = tree.DecisionTreeClassifier()"
   ]
  },
  {
   "cell_type": "code",
   "execution_count": 76,
   "id": "bee2a898-6314-4f66-ae5c-2752c7f23560",
   "metadata": {},
   "outputs": [],
   "source": [
    "def cross_validation(_model, _X, _y, _cv): \n",
    "    _scoring = ['accuracy']\n",
    "    results = cross_validate(estimator = _model,\n",
    "              X = _X,\n",
    "              y = _y,\n",
    "              cv = _cv,\n",
    "              scoring  = _scoring,               \n",
    "              return_train_score = False)\n",
    "    return results['accuracy'].mean()\n",
    "\n",
    "def modelEvaluation(_model, _X, _y, _cv):\n",
    "    _scoring = {'recall': make_scorer(recall_score, average = 'macro')}\n",
    "    reg = GridSearchCV(\n",
    "        estimator = models[_model]['model'],\n",
    "        param_grid = models[_model]['params'],\n",
    "        cv = _cv,\n",
    "        n_jobs = 5,\n",
    "        scoring = _scoring,\n",
    "        refit = 'recall'\n",
    "    )\n",
    "    reg.fit(_X,_y)\n",
    "    print('The {} model had a best recall of {} using the following parameters: {}.'.format(_model, reg.best_score_, reg.best_params_))\n",
    "    \n",
    "def modelTesting(_model, _xTr, _yTr, _xTe, _yTe):\n",
    "    _model.fit(_xTr,_yTr)\n",
    "    preds = _model.predict(_xTe)\n",
    "    accuracy = metrics.accuracy_score(preds,_yTe)\n",
    "    cm = metrics.confusion_matrix(_yTe,preds)\n",
    "    tp = cm[1,1]\n",
    "    fp = cm[1,0]\n",
    "    tn = cm[0,0]\n",
    "    fn = cm[0,1]\n",
    "    sensitivity = tp / (tp + fn)\n",
    "    specificity = tn / (tn + fp)\n",
    "    precision = tp / (tp + fp)\n",
    "    y_pred_proba = _model.predict_proba(_xTe)[::,1]\n",
    "    auc = metrics.roc_auc_score(_yTe, y_pred_proba)\n",
    "    print('The model had an overall:\\n -auc of {} \\n -accuracy of {}\\n -precision of {}\\n -sensitivity of {}\\n -specificity of {}.'.format(auc, accuracy,precision,sensitivity,specificity))\n",
    "    \n",
    "def feature_importances(model,name):\n",
    "    try:\n",
    "        for i in range(0,len(model.feature_names_in_)):\n",
    "            feature_name = model.feature_names_in_[i]\n",
    "            feature_importance = model.feature_importances_[i]\n",
    "            temp0 = [name,feature_name,feature_importance]\n",
    "            print(temp)\n",
    "    except:\n",
    "        print(name)"
   ]
  },
  {
   "cell_type": "code",
   "execution_count": 162,
   "id": "b293b8e8-8f6c-4b89-b8c2-9cf1587e29e4",
   "metadata": {},
   "outputs": [],
   "source": [
    "models = {'RandomForest':{'model':RandomForestModel, 'params':{'n_estimators' : list(range(1800,2500,200)), 'min_samples_split' : [2,5], 'min_samples_leaf' : [1,2]}}\n",
    "         #,'LinearRegression': {'model':LinearRegressionModel, 'params':{}}\n",
    "         #,'Lasso': {'model':LassoModel, 'params':{'alpha': [0.1,0.01,0.001,0.0001], 'max_iter': list(range(10,100,20))}}\n",
    "         ,'NeuralNetwork': {'model':NeuralNetworkModel, 'params': {'hidden_layer_sizes':list(range(206,215,1)), 'alpha':[0.01]}}\n",
    "         ,'KNN': {'model':neighbors.KNeighborsClassifier(), 'params':{'n_neighbors': [17,18,19,20,21,22]}}\n",
    "         ,'GradientBoosting': {'model': GradientBoostingModel, 'params': {'n_estimators': [500,750,50], 'min_samples_split': [15], 'min_samples_leaf': [1]}}\n",
    "         ,'AdaBoosting': {'model': AdaBoostModel, 'params': {'n_estimators': list(range(5,15,1))}}\n",
    "         ,'Bagging': {'model': BaggingModel, 'params': {'n_estimators': [41], 'max_samples': [67,68,69,70,71,72,73]}}\n",
    "         ,'ExtraTrees': {'model': ExtraTreesModel, 'params': {'n_estimators': [430], 'min_samples_split': [3,5,7]}}\n",
    "         #,'Poisson': {'model': PoissonModel, 'params': {'alpha': [0.001], 'max_iter': list(range(10,30,2))}}\n",
    "         ,'DecisionTree': {'model': DecisionTreeModel, 'params': {'min_samples_split': [2], 'min_samples_leaf': [7,8,9,10,11,12]}}}"
   ]
  },
  {
   "cell_type": "markdown",
   "id": "ff46b09f-31ca-4a6c-aaeb-6ebd5e64a1b3",
   "metadata": {},
   "source": [
    "<h2>Random Forest (Tuned)</h2>"
   ]
  },
  {
   "cell_type": "code",
   "execution_count": null,
   "id": "61918892-52b1-4f68-b378-e947a13d6da6",
   "metadata": {},
   "outputs": [],
   "source": [
    "modelEvaluation('RandomForest',xTrain,yTrain,5)"
   ]
  },
  {
   "cell_type": "code",
   "execution_count": null,
   "id": "e9703e0f-a7bb-4e40-b5c3-b7b1c1f1a474",
   "metadata": {},
   "outputs": [],
   "source": [
    "trainedRF = se.RandomForestRegressor(random_state = rs, min_samples_leaf = 2, min_samples_split = 5, n_estimators=2000)\n",
    "trainedRF.fit(xTrain,yTrain)\n",
    "preds = trainedRF.predict(xTest)\n",
    "rmse = metrics.mean_squared_error(preds,yTest)\n",
    "print(rmse)\n",
    "r2 = metrics.r2_score(preds,yTest)\n",
    "print(r2)"
   ]
  },
  {
   "cell_type": "code",
   "execution_count": null,
   "id": "07bfe8b8-ef54-4563-a8bd-6b6fecc70280",
   "metadata": {},
   "outputs": [],
   "source": []
  },
  {
   "cell_type": "markdown",
   "id": "aa639b66-7628-42e8-acb1-76413c327f29",
   "metadata": {},
   "source": [
    "<h2>Linear Regression (Depricated)</h2>"
   ]
  },
  {
   "cell_type": "code",
   "execution_count": 20,
   "id": "dbfa08af-ce6a-4d0c-b606-e531a7924bcc",
   "metadata": {},
   "outputs": [
    {
     "ename": "KeyError",
     "evalue": "'LinearRegression'",
     "output_type": "error",
     "traceback": [
      "\u001b[1;31m---------------------------------------------------------------------------\u001b[0m",
      "\u001b[1;31mKeyError\u001b[0m                                  Traceback (most recent call last)",
      "Input \u001b[1;32mIn [20]\u001b[0m, in \u001b[0;36m<cell line: 1>\u001b[1;34m()\u001b[0m\n\u001b[1;32m----> 1\u001b[0m \u001b[43mmodelEvaluation\u001b[49m\u001b[43m(\u001b[49m\u001b[38;5;124;43m'\u001b[39;49m\u001b[38;5;124;43mLinearRegression\u001b[39;49m\u001b[38;5;124;43m'\u001b[39;49m\u001b[43m,\u001b[49m\u001b[43mxTrain\u001b[49m\u001b[43m,\u001b[49m\u001b[43myTrain\u001b[49m\u001b[43m,\u001b[49m\u001b[38;5;241;43m5\u001b[39;49m\u001b[43m)\u001b[49m\n",
      "Input \u001b[1;32mIn [18]\u001b[0m, in \u001b[0;36mmodelEvaluation\u001b[1;34m(_model, _X, _y, _cv)\u001b[0m\n\u001b[0;32m     11\u001b[0m \u001b[38;5;28;01mdef\u001b[39;00m \u001b[38;5;21mmodelEvaluation\u001b[39m(_model, _X, _y, _cv):\n\u001b[0;32m     12\u001b[0m     _scoring \u001b[38;5;241m=\u001b[39m [\u001b[38;5;124m'\u001b[39m\u001b[38;5;124mrecall\u001b[39m\u001b[38;5;124m'\u001b[39m]\n\u001b[0;32m     13\u001b[0m     reg \u001b[38;5;241m=\u001b[39m GridSearchCV(\n\u001b[1;32m---> 14\u001b[0m         estimator \u001b[38;5;241m=\u001b[39m \u001b[43mmodels\u001b[49m\u001b[43m[\u001b[49m\u001b[43m_model\u001b[49m\u001b[43m]\u001b[49m[\u001b[38;5;124m'\u001b[39m\u001b[38;5;124mmodel\u001b[39m\u001b[38;5;124m'\u001b[39m],\n\u001b[0;32m     15\u001b[0m         param_grid \u001b[38;5;241m=\u001b[39m models[_model][\u001b[38;5;124m'\u001b[39m\u001b[38;5;124mparams\u001b[39m\u001b[38;5;124m'\u001b[39m],\n\u001b[0;32m     16\u001b[0m         cv \u001b[38;5;241m=\u001b[39m _cv,\n\u001b[0;32m     17\u001b[0m         n_jobs \u001b[38;5;241m=\u001b[39m \u001b[38;5;241m5\u001b[39m,\n\u001b[0;32m     18\u001b[0m         scoring \u001b[38;5;241m=\u001b[39m _scoring,\n\u001b[0;32m     19\u001b[0m         refit \u001b[38;5;241m=\u001b[39m \u001b[38;5;124m'\u001b[39m\u001b[38;5;124mrecall\u001b[39m\u001b[38;5;124m'\u001b[39m\n\u001b[0;32m     20\u001b[0m     )\n\u001b[0;32m     21\u001b[0m     reg\u001b[38;5;241m.\u001b[39mfit(_X,_y)\n\u001b[0;32m     22\u001b[0m     \u001b[38;5;28mprint\u001b[39m(\u001b[38;5;124m'\u001b[39m\u001b[38;5;124mThe \u001b[39m\u001b[38;5;132;01m{}\u001b[39;00m\u001b[38;5;124m model had a best precision of \u001b[39m\u001b[38;5;132;01m{}\u001b[39;00m\u001b[38;5;124m using the following parameters: \u001b[39m\u001b[38;5;132;01m{}\u001b[39;00m\u001b[38;5;124m.\u001b[39m\u001b[38;5;124m'\u001b[39m\u001b[38;5;241m.\u001b[39mformat(_model, reg\u001b[38;5;241m.\u001b[39mbest_score_, reg\u001b[38;5;241m.\u001b[39mbest_params_))\n",
      "\u001b[1;31mKeyError\u001b[0m: 'LinearRegression'"
     ]
    }
   ],
   "source": [
    "modelEvaluation('LinearRegression',xTrain,yTrain,5)"
   ]
  },
  {
   "cell_type": "code",
   "execution_count": null,
   "id": "6fe5170e-0c2a-416b-9c21-6cdac6aec788",
   "metadata": {},
   "outputs": [],
   "source": [
    "trainedLR = LinearRegression()\n",
    "trainedLR.fit(xTrain,yTrain)\n",
    "preds = trainedLR.predict(xTest)\n",
    "rmse = metrics.mean_squared_error(preds,yTest)\n",
    "print(rmse)\n",
    "r2 = metrics.r2_score(preds,yTest)\n",
    "print(r2)"
   ]
  },
  {
   "cell_type": "code",
   "execution_count": null,
   "id": "58fcca1e-36b6-43a5-ac16-78e40cc709fb",
   "metadata": {},
   "outputs": [],
   "source": []
  },
  {
   "cell_type": "markdown",
   "id": "a57c6e1a-6c60-4396-bdc1-ef0551e776d7",
   "metadata": {},
   "source": [
    "<h2>Lasso (Depricated)</2>"
   ]
  },
  {
   "cell_type": "code",
   "execution_count": null,
   "id": "fff9e397-f173-4c51-af54-2e17dc54438a",
   "metadata": {},
   "outputs": [],
   "source": [
    "modelEvaluation('Lasso',xTrain,yTrain,5)"
   ]
  },
  {
   "cell_type": "code",
   "execution_count": null,
   "id": "d3271005-35b8-4226-94e9-025af478e1a0",
   "metadata": {},
   "outputs": [],
   "source": [
    "trainedLassoR = Lasso(alpha = 0.0001, max_iter = 10000)\n",
    "trainedLassoR.fit(xTrain,yTrain)\n",
    "preds = trainedLassoR.predict(xTest)\n",
    "rmse = metrics.mean_squared_error(preds,yTest)\n",
    "print(rmse)\n",
    "r2 = metrics.r2_score(preds,yTest)\n",
    "print(r2)"
   ]
  },
  {
   "cell_type": "code",
   "execution_count": null,
   "id": "5557f58c-fda4-4f21-b394-73a9a0bb166b",
   "metadata": {},
   "outputs": [],
   "source": []
  },
  {
   "cell_type": "markdown",
   "id": "14f7a8aa-dac5-488f-8142-ac9d1130deba",
   "metadata": {},
   "source": [
    "<h2>Neural Network (Tuned)</h2>"
   ]
  },
  {
   "cell_type": "code",
   "execution_count": null,
   "id": "871d74a4-910e-48ac-97cf-e93409d52711",
   "metadata": {},
   "outputs": [],
   "source": [
    "modelEvaluation('NeuralNetwork',xTrain,yTrain,5)"
   ]
  },
  {
   "cell_type": "code",
   "execution_count": 173,
   "id": "d944188a-e8a8-4353-80df-f22dd1306e24",
   "metadata": {},
   "outputs": [
    {
     "name": "stderr",
     "output_type": "stream",
     "text": [
      "C:\\ProgramData\\Anaconda3\\lib\\site-packages\\sklearn\\neural_network\\_multilayer_perceptron.py:692: ConvergenceWarning: Stochastic Optimizer: Maximum iterations (200) reached and the optimization hasn't converged yet.\n",
      "  warnings.warn(\n"
     ]
    },
    {
     "name": "stdout",
     "output_type": "stream",
     "text": [
      "The model had an overall:\n",
      " -auc of 0.9156871164324516 \n",
      " -accuracy of 0.87125\n",
      " -precision of 0.4716981132075472\n",
      " -sensitivity of 0.7399577167019028\n",
      " -specificity of 0.8888573858803516.\n"
     ]
    }
   ],
   "source": [
    "trainedNN = neural_network.MLPClassifier(alpha = 0.01, hidden_layer_sizes = 209, random_state = rs)\n",
    "modelTesting(trainedNN, xTrain, yTrain, xTest, yTest)"
   ]
  },
  {
   "cell_type": "code",
   "execution_count": 174,
   "id": "3146b9c6-bde9-403e-929e-55677857d84c",
   "metadata": {},
   "outputs": [
    {
     "name": "stdout",
     "output_type": "stream",
     "text": [
      "NN\n"
     ]
    }
   ],
   "source": [
    "try:\n",
    "    for i in range(0,len(trainedNN.feature_names_in_)):\n",
    "        feature_name = trainedNN.feature_names_in_[i]\n",
    "        feature_importance = trainedNN.feature_importances_[i]\n",
    "        temp0 = ['NN',feature_name,feature_importance]\n",
    "        print(temp0[1])\n",
    "except:\n",
    "    print('NN')"
   ]
  },
  {
   "cell_type": "markdown",
   "id": "97f36dd9-7a55-41ef-866f-e7cfc363719e",
   "metadata": {},
   "source": [
    "<h2>K-Nearest Neighbors (Re-Tuned)</h2>\n",
    "\n"
   ]
  },
  {
   "cell_type": "code",
   "execution_count": null,
   "id": "9a25f38e-948b-4bb1-9832-7d19b6dbe6b8",
   "metadata": {},
   "outputs": [],
   "source": [
    "modelEvaluation('KNN',xTrain,yTrain,5)"
   ]
  },
  {
   "cell_type": "code",
   "execution_count": 78,
   "id": "b040b88d-2162-4338-a731-acc9bfa85677",
   "metadata": {},
   "outputs": [
    {
     "name": "stdout",
     "output_type": "stream",
     "text": [
      "The model had an overall:\n",
      " -auc of 0.9242869304502787 \n",
      " -accuracy of 0.89275\n",
      " -precision of 0.6725067385444744\n",
      " -sensitivity of 0.7284671532846715\n",
      " -specificity of 0.9266968325791856.\n"
     ]
    }
   ],
   "source": [
    "trainedKNN = neighbors.KNeighborsClassifier(n_neighbors = 17)\n",
    "modelTesting(trainedKNN, xTrain, yTrain, xTest, yTest)"
   ]
  },
  {
   "cell_type": "code",
   "execution_count": 43,
   "id": "946085ba-6289-4168-aa6a-2a0462521b3b",
   "metadata": {},
   "outputs": [
    {
     "name": "stdout",
     "output_type": "stream",
     "text": [
      "KNN\n"
     ]
    }
   ],
   "source": [
    "try:\n",
    "    for i in range(0,len(trainedKNN.feature_names_in_)):\n",
    "        feature_name = trainedKNN.feature_names_in_[i]\n",
    "        feature_importance = trainedKNN.feature_importances_[i]\n",
    "        temp0 = ['KNN',feature_name,feature_importance]\n",
    "        print(temp0[1])\n",
    "except:\n",
    "    print('KNN')"
   ]
  },
  {
   "cell_type": "code",
   "execution_count": null,
   "id": "647ceb1d-a01b-49b4-9072-8f90edbb5c11",
   "metadata": {},
   "outputs": [],
   "source": []
  },
  {
   "cell_type": "markdown",
   "id": "4398e10b-b7a6-4096-84db-66268d1ba91d",
   "metadata": {},
   "source": [
    "<h2>Gradient Boosting (Re-Tuned)</h2>"
   ]
  },
  {
   "cell_type": "code",
   "execution_count": null,
   "id": "2a50ddfd-1e63-4e22-a8ee-fd1e6b019969",
   "metadata": {},
   "outputs": [],
   "source": [
    "modelEvaluation('GradientBoosting',xTrain,yTrain,5)"
   ]
  },
  {
   "cell_type": "code",
   "execution_count": 79,
   "id": "7acf1819-bcd8-4319-9637-be09938e14d5",
   "metadata": {},
   "outputs": [
    {
     "name": "stdout",
     "output_type": "stream",
     "text": [
      "The model had an overall:\n",
      " -auc of 0.938302192901901 \n",
      " -accuracy of 0.894\n",
      " -precision of 0.6185983827493261\n",
      " -sensitivity of 0.765\n",
      " -specificity of 0.9167647058823529.\n"
     ]
    }
   ],
   "source": [
    "trainedGB = se.GradientBoostingClassifier(random_state = rs, min_samples_split = 40, n_estimators = 650, min_samples_leaf = 1)\n",
    "modelTesting(trainedGB, xTrain, yTrain, xTest, yTest)"
   ]
  },
  {
   "cell_type": "code",
   "execution_count": 71,
   "id": "f656a9cd-c3c2-421b-9475-d9f64155383a",
   "metadata": {},
   "outputs": [
    {
     "name": "stdout",
     "output_type": "stream",
     "text": [
      "0.16615110737249472\n",
      "0.16831066899531755\n",
      "0.0365244867393739\n",
      "0.0444090084136359\n",
      "0.010155343383198557\n",
      "0.014395459054785072\n",
      "0.006894755453537663\n",
      "0.14867530221041284\n",
      "0.10563554672866642\n",
      "0.2098024111492393\n",
      "0.08904591049933828\n"
     ]
    }
   ],
   "source": [
    "try:\n",
    "    for i in range(0,len(trainedGB.feature_names_in_)):\n",
    "        feature_name = trainedGB.feature_names_in_[i]\n",
    "        feature_importance = trainedGB.feature_importances_[i]\n",
    "        temp0 = ['Gradient Boosting',feature_name,feature_importance]\n",
    "        print(temp0[2])\n",
    "except:\n",
    "    print('Gradient Boosting')"
   ]
  },
  {
   "cell_type": "markdown",
   "id": "fea96532-dd93-46e6-bd94-740d9255f7e3",
   "metadata": {},
   "source": [
    "<h2>Ada Boosting (Re-Tuned)</h2>"
   ]
  },
  {
   "cell_type": "code",
   "execution_count": 92,
   "id": "286f51cb-8445-49f7-87af-e6085234a4c8",
   "metadata": {},
   "outputs": [
    {
     "name": "stdout",
     "output_type": "stream",
     "text": [
      "The AdaBoosting model had a best recall of 0.6718005828031173 using the following parameters: {'n_estimators': 13}.\n"
     ]
    }
   ],
   "source": [
    "modelEvaluation('AdaBoosting',xTrain,yTrain,5)"
   ]
  },
  {
   "cell_type": "code",
   "execution_count": 93,
   "id": "1769ee75-d459-4d79-b64f-2e57cf7b9782",
   "metadata": {},
   "outputs": [
    {
     "name": "stdout",
     "output_type": "stream",
     "text": [
      "The model had an overall:\n",
      " -auc of 0.8804071752054656 \n",
      " -accuracy of 0.85225\n",
      " -precision of 0.4029649595687331\n",
      " -sensitivity of 0.668903803131991\n",
      " -specificity of 0.8753166338305657.\n"
     ]
    }
   ],
   "source": [
    "trainedAB = se.AdaBoostClassifier(random_state = rs, n_estimators = 13)\n",
    "modelTesting(trainedAB, xTrain, yTrain, xTest, yTest)"
   ]
  },
  {
   "cell_type": "code",
   "execution_count": 95,
   "id": "56337b74-717d-4455-b014-e0718ed7aabf",
   "metadata": {},
   "outputs": [
    {
     "name": "stdout",
     "output_type": "stream",
     "text": [
      "lat\n",
      "lon\n",
      "temperature_80+\n",
      "temperature_< 80\n",
      "temperature_<= 32\n",
      "dayNight_Day\n",
      "dayNight_Night\n",
      "precip_False\n",
      "precip_True\n",
      "traffic_False\n",
      "traffic_True\n"
     ]
    }
   ],
   "source": [
    "try:\n",
    "    for i in range(0,len(trainedAB.feature_names_in_)):\n",
    "        feature_name = trainedAB.feature_names_in_[i]\n",
    "        feature_importance = trainedAB.feature_importances_[i]\n",
    "        temp0 = ['Ada Boosting',feature_name,feature_importance]\n",
    "        print(temp0[1])\n",
    "except:\n",
    "    print('Nope')"
   ]
  },
  {
   "cell_type": "markdown",
   "id": "258dc97e-3f95-4c56-9886-9ab3602d19c4",
   "metadata": {},
   "source": [
    "<h2>Bagging (Re-Tuned)</h2>"
   ]
  },
  {
   "cell_type": "code",
   "execution_count": 109,
   "id": "8e95bcbb-1bef-4aaa-97a7-618b4d38f7f6",
   "metadata": {},
   "outputs": [
    {
     "name": "stdout",
     "output_type": "stream",
     "text": [
      "The Bagging model had a best recall of 0.6779611652026765 using the following parameters: {'max_samples': 68, 'n_estimators': 41}.\n"
     ]
    }
   ],
   "source": [
    "modelEvaluation('Bagging',xTrain,yTrain,5)"
   ]
  },
  {
   "cell_type": "code",
   "execution_count": 110,
   "id": "9938b57f-12bc-424b-a304-acf9d50d8211",
   "metadata": {},
   "outputs": [
    {
     "name": "stdout",
     "output_type": "stream",
     "text": [
      "The model had an overall:\n",
      " -auc of 0.8779187949546544 \n",
      " -accuracy of 0.85825\n",
      " -precision of 0.42857142857142855\n",
      " -sensitivity of 0.6898047722342733\n",
      " -specificity of 0.8801921446736366.\n"
     ]
    }
   ],
   "source": [
    "trainedB = se.BaggingClassifier(random_state = rs, n_estimators = 41, max_samples = 68)\n",
    "modelTesting(trainedB, xTrain, yTrain, xTest, yTest)"
   ]
  },
  {
   "cell_type": "code",
   "execution_count": 176,
   "id": "98bcb569-0338-4f54-b36d-c50d2310281d",
   "metadata": {},
   "outputs": [
    {
     "name": "stdout",
     "output_type": "stream",
     "text": [
      "B\n"
     ]
    }
   ],
   "source": [
    "try:\n",
    "    for i in range(0,len(trainedB.feature_names_in_)):\n",
    "        feature_name = trainedB.feature_names_in_[i]\n",
    "        feature_importance = trainedB.feature_importances_[i]\n",
    "        temp0 = ['B',feature_name,feature_importance]\n",
    "        print(temp0[1])\n",
    "except:\n",
    "    print('B')"
   ]
  },
  {
   "cell_type": "markdown",
   "id": "2085bc67-dce3-44ed-b3e9-a1791e70c64c",
   "metadata": {},
   "source": [
    "<h2>Extra Trees (Re-Tuned)</h2>"
   ]
  },
  {
   "cell_type": "code",
   "execution_count": 147,
   "id": "31b7e91e-ba29-43ed-913d-7b03bd9a1126",
   "metadata": {},
   "outputs": [
    {
     "name": "stdout",
     "output_type": "stream",
     "text": [
      "The ExtraTrees model had a best recall of 0.7916975378799803 using the following parameters: {'min_samples_split': 5, 'n_estimators': 430}.\n"
     ]
    }
   ],
   "source": [
    "modelEvaluation('ExtraTrees',xTrain,yTrain,5)"
   ]
  },
  {
   "cell_type": "code",
   "execution_count": 148,
   "id": "12e37110-66f8-46fa-bc97-1758ea45458f",
   "metadata": {},
   "outputs": [
    {
     "name": "stdout",
     "output_type": "stream",
     "text": [
      "The model had an overall:\n",
      " -auc of 0.9279132932578152 \n",
      " -accuracy of 0.89675\n",
      " -precision of 0.6752021563342318\n",
      " -sensitivity of 0.7444279346210996\n",
      " -specificity of 0.9275623685001503.\n"
     ]
    }
   ],
   "source": [
    "trainedET = se.ExtraTreesClassifier(random_state = rs, n_estimators = 430, min_samples_split = 5)\n",
    "modelTesting(trainedET, xTrain, yTrain, xTest, yTest)"
   ]
  },
  {
   "cell_type": "code",
   "execution_count": 179,
   "id": "907ff6ea-242e-4f54-8461-b87a13262702",
   "metadata": {},
   "outputs": [
    {
     "name": "stdout",
     "output_type": "stream",
     "text": [
      "lat\n",
      "lon\n",
      "temperature_80+\n",
      "temperature_< 80\n",
      "temperature_<= 32\n",
      "dayNight_Day\n",
      "dayNight_Night\n",
      "precip_False\n",
      "precip_True\n",
      "traffic_False\n",
      "traffic_True\n"
     ]
    }
   ],
   "source": [
    "try:\n",
    "    for i in range(0,len(trainedET.feature_names_in_)):\n",
    "        feature_name = trainedET.feature_names_in_[i]\n",
    "        feature_importance = trainedET.feature_importances_[i]\n",
    "        temp0 = ['Extra Trees',feature_name,feature_importance]\n",
    "        print(temp0[1])\n",
    "except:\n",
    "    print('Nope')"
   ]
  },
  {
   "cell_type": "code",
   "execution_count": null,
   "id": "a3dbb0d2-6af3-431f-9715-bf38475f47a3",
   "metadata": {},
   "outputs": [],
   "source": []
  },
  {
   "cell_type": "markdown",
   "id": "dc275aa2-b86c-4691-8adf-a3c20cb4bf3d",
   "metadata": {},
   "source": [
    "<h2>Poisson (Depricated)</h2>"
   ]
  },
  {
   "cell_type": "code",
   "execution_count": null,
   "id": "5bb88a87-0e19-4bc6-bf66-0cd97df37ac8",
   "metadata": {},
   "outputs": [],
   "source": [
    "modelEvaluation('Poisson',xTrain,yTrain,5)"
   ]
  },
  {
   "cell_type": "code",
   "execution_count": null,
   "id": "12a10044-5023-4e3a-a71a-6fead67d7d5a",
   "metadata": {},
   "outputs": [],
   "source": [
    "trainedP = PoissonRegressor(alpha = 0.001, max_iter=19)\n",
    "trainedP.fit(xTrain,yTrain)\n",
    "preds = trainedP.predict(xTest)\n",
    "rmse = metrics.mean_squared_error(preds,yTest)\n",
    "print(rmse)\n",
    "r2 = metrics.r2_score(preds,yTest)\n",
    "print(r2)"
   ]
  },
  {
   "cell_type": "code",
   "execution_count": null,
   "id": "47c55fb9-a983-4d32-b8f5-e82493594f86",
   "metadata": {},
   "outputs": [],
   "source": []
  },
  {
   "cell_type": "markdown",
   "id": "3be1425f-0e25-40fe-a7d5-cd102ecd2dd9",
   "metadata": {},
   "source": [
    "<h2>Decision Tree (Re-Tuned)</h2>"
   ]
  },
  {
   "cell_type": "code",
   "execution_count": 163,
   "id": "557546f0-98cd-47f4-ace3-f34f48f644fc",
   "metadata": {},
   "outputs": [
    {
     "name": "stdout",
     "output_type": "stream",
     "text": [
      "The DecisionTree model had a best recall of 0.788170903333968 using the following parameters: {'min_samples_leaf': 9, 'min_samples_split': 2}.\n"
     ]
    }
   ],
   "source": [
    "modelEvaluation('DecisionTree',xTrain,yTrain,5)"
   ]
  },
  {
   "cell_type": "code",
   "execution_count": 164,
   "id": "32799ce5-e152-458e-9b20-e991fa23ba2a",
   "metadata": {},
   "outputs": [
    {
     "name": "stdout",
     "output_type": "stream",
     "text": [
      "The model had an overall:\n",
      " -auc of 0.9171533393231507 \n",
      " -accuracy of 0.897\n",
      " -precision of 0.6671159029649596\n",
      " -sensitivity of 0.75\n",
      " -specificity of 0.9260479041916168.\n"
     ]
    }
   ],
   "source": [
    "trainedDT = tree.DecisionTreeClassifier(min_samples_leaf=9, min_samples_split=2)\n",
    "modelTesting(trainedDT, xTrain, yTrain, xTest, yTest)"
   ]
  },
  {
   "cell_type": "code",
   "execution_count": 178,
   "id": "cc64a442-15d3-4e7d-a944-ad01d63df655",
   "metadata": {},
   "outputs": [
    {
     "name": "stdout",
     "output_type": "stream",
     "text": [
      "0.28986282643682104\n",
      "0.22878386381873386\n",
      "0.022696040037638684\n",
      "0.038686318816189405\n",
      "0.01238735706415529\n",
      "0.007103480102031717\n",
      "0.01747956981449471\n",
      "0.1609660879679341\n",
      "0.0\n",
      "0.01018433861423617\n",
      "0.21185011732776504\n"
     ]
    }
   ],
   "source": [
    "try:\n",
    "    for i in range(0,len(trainedDT.feature_names_in_)):\n",
    "        feature_name = trainedDT.feature_names_in_[i]\n",
    "        feature_importance = trainedDT.feature_importances_[i]\n",
    "        temp0 = ['DT',feature_name,feature_importance]\n",
    "        print(temp0[2])\n",
    "except:\n",
    "    print('DT')"
   ]
  },
  {
   "cell_type": "code",
   "execution_count": null,
   "id": "4fd33435-d86d-488f-823d-d7d3a6ada483",
   "metadata": {},
   "outputs": [],
   "source": [
    "fi = []\n",
    "\n",
    "def feature_importances(model,name):\n",
    "    try:\n",
    "        for i in range(0,len(model.feature_names_in_)):\n",
    "            feature_name = model.feature_names_in_[i]\n",
    "            feature_importance = model.feature_importances_[i]\n",
    "            temp0 = [name,feature_name,feature_importance]\n",
    "            fi.append(temp0)\n",
    "    except:\n",
    "        fi.append([name,'',''])\n",
    "        \n",
    "feature_importances(trainedRF,'Random Forest')\n",
    "feature_importances(trainedLR, 'Linear Regression')\n",
    "feature_importances(trainedLassoR, 'Lasso')\n",
    "feature_importances(trainedNN, 'Neural Network')\n",
    "feature_importances(trainedKNN, 'K-Nearest Neighbors')\n",
    "feature_importances(trainedGB, 'Gradient Boosting')\n",
    "feature_importances(trainedAB, 'Ada Boosting')\n",
    "feature_importances(trainedB, 'Bagging')\n",
    "feature_importances(trainedET, 'Extra Trees')\n",
    "feature_importances(trainedP, 'Poisson')\n",
    "feature_importances(trainedDT, 'Decision Tree')\n",
    "\n",
    "#print(fi)\n",
    "\n",
    "# trainedRF.feature_importances_\n",
    "# trainedRF.feature_names_in_"
   ]
  },
  {
   "cell_type": "code",
   "execution_count": null,
   "id": "cfe5699b-7480-493b-91c2-06da473d4c4a",
   "metadata": {},
   "outputs": [],
   "source": [
    "for i in fi:\n",
    "    print(i[0])"
   ]
  }
 ],
 "metadata": {
  "kernelspec": {
   "display_name": "Python 3 (ipykernel)",
   "language": "python",
   "name": "python3"
  },
  "language_info": {
   "codemirror_mode": {
    "name": "ipython",
    "version": 3
   },
   "file_extension": ".py",
   "mimetype": "text/x-python",
   "name": "python",
   "nbconvert_exporter": "python",
   "pygments_lexer": "ipython3",
   "version": "3.9.12"
  }
 },
 "nbformat": 4,
 "nbformat_minor": 5
}
